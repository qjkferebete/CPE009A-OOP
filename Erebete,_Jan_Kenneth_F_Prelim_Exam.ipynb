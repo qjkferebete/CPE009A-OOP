{
  "nbformat": 4,
  "nbformat_minor": 0,
  "metadata": {
    "colab": {
      "provenance": [],
      "authorship_tag": "ABX9TyMG6yaDfJUvNW3u4p46PwZ9",
      "include_colab_link": true
    },
    "kernelspec": {
      "name": "python3",
      "display_name": "Python 3"
    },
    "language_info": {
      "name": "python"
    }
  },
  "cells": [
    {
      "cell_type": "markdown",
      "metadata": {
        "id": "view-in-github",
        "colab_type": "text"
      },
      "source": [
        "<a href=\"https://colab.research.google.com/github/qjkferebete/CPE009A-OOP/blob/main/Erebete%2C_Jan_Kenneth_F_Prelim_Exam.ipynb\" target=\"_parent\"><img src=\"https://colab.research.google.com/assets/colab-badge.svg\" alt=\"Open In Colab\"/></a>"
      ]
    },
    {
      "cell_type": "code",
      "source": [
        "fullname = input(\"Enter your full name: \")\n",
        "age = input(\"Enter your age: \")\n",
        "print (\"fullname and age: \" +fullname +\" \" + \"and\"+ \" \"+ age)"
      ],
      "metadata": {
        "colab": {
          "base_uri": "https://localhost:8080/"
        },
        "id": "BMoDuEKLpMaO",
        "outputId": "0932f64c-e936-4f3f-c98b-6f4f25066834"
      },
      "execution_count": 8,
      "outputs": [
        {
          "output_type": "stream",
          "name": "stdout",
          "text": [
            "Enter your full name: Jan Kenneth Erebete\n",
            "Enter your age: 19\n",
            "fullname and age: Jan Kenneth Erebete and 19\n"
          ]
        }
      ]
    }
  ]
}
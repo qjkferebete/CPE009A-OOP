{
  "nbformat": 4,
  "nbformat_minor": 0,
  "metadata": {
    "colab": {
      "provenance": [],
      "authorship_tag": "ABX9TyPhIbmI3OCLBKHVJwT5iSha",
      "include_colab_link": true
    },
    "kernelspec": {
      "name": "python3",
      "display_name": "Python 3"
    },
    "language_info": {
      "name": "python"
    }
  },
  "cells": [
    {
      "cell_type": "markdown",
      "metadata": {
        "id": "view-in-github",
        "colab_type": "text"
      },
      "source": [
        "<a href=\"https://colab.research.google.com/github/qjkferebete/CPE009A-OOP/blob/main/Concepts_of_OOP_2.ipynb\" target=\"_parent\"><img src=\"https://colab.research.google.com/assets/colab-badge.svg\" alt=\"Open In Colab\"/></a>"
      ]
    },
    {
      "cell_type": "markdown",
      "source": [],
      "metadata": {
        "id": "Q9SlVqCecIfz"
      }
    },
    {
      "cell_type": "code",
      "source": [
        "class Birds:\n",
        "  def __init__(self, bird_name):\n",
        "    self.bird_name=bird_name\n",
        "  def flying_bird(self):\n",
        "    print(f\"{self.bird_name} flies above the ground\")\n",
        "  def non_flying_bird(self):\n",
        "    print(f\"{self.bird} as the national bird of the philippines\")\n",
        "\n",
        "vulture=Birds(\"Griffin Vulture\")\n",
        "crane=Birds(\"Common Crane\")\n",
        "emu=Birds(\"Emu\")\n",
        "vulture.flying_bird()\n",
        "crane.flying_bird()\n",
        "emu.flying_bird()\n",
        "\n"
      ],
      "metadata": {
        "colab": {
          "base_uri": "https://localhost:8080/"
        },
        "id": "2BAkduGvcK8B",
        "outputId": "5462ac39-c5ad-412e-d9a8-e0ab702dd062"
      },
      "execution_count": 20,
      "outputs": [
        {
          "output_type": "stream",
          "name": "stdout",
          "text": [
            "Griffin Vulture flies above the ground\n",
            "Common Crane flies above the ground\n",
            "Emu flies above the ground\n"
          ]
        }
      ]
    },
    {
      "cell_type": "markdown",
      "source": [
        "Example 1\n"
      ],
      "metadata": {
        "id": "q5KrDTLndfLy"
      }
    },
    {
      "cell_type": "code",
      "source": [
        "class foo:\n",
        "  def __init__(self, a, b):\n",
        "    self.a = a\n",
        "    self.b = b\n",
        "  def add(self):\n",
        "    return self.a + self.b\n",
        "foo_object=foo(3,4)\n",
        "foo_object.add()"
      ],
      "metadata": {
        "colab": {
          "base_uri": "https://localhost:8080/"
        },
        "id": "BfEfdPyrdfl6",
        "outputId": "23e96bdb-425c-4636-e58b-99a7cbd86290"
      },
      "execution_count": 7,
      "outputs": [
        {
          "output_type": "execute_result",
          "data": {
            "text/plain": [
              "7"
            ]
          },
          "metadata": {},
          "execution_count": 7
        }
      ]
    },
    {
      "cell_type": "markdown",
      "source": [
        "Example 2\n"
      ],
      "metadata": {
        "id": "gxIxozLvfJw6"
      }
    },
    {
      "cell_type": "code",
      "source": [
        "class Counter:\n",
        "  def __init__(self):\n",
        "    self.current = 0\n",
        "\n",
        "  def increament(self):\n",
        "    self.current += 1\n",
        "\n",
        "  def value(self):\n",
        "    return self.current\n",
        "\n",
        "  def reset(self):\n",
        "    self.current = 0\n",
        "\n",
        "counter = Counter()\n",
        "\n",
        "counter.increament()\n",
        "counter.increament()\n",
        "counter.increament()\n",
        "\n",
        "print(counter.value)"
      ],
      "metadata": {
        "colab": {
          "base_uri": "https://localhost:8080/"
        },
        "id": "yX3WPBQ4fLh6",
        "outputId": "72a6f39f-b97b-419d-d995-1abd2a7944e9"
      },
      "execution_count": 10,
      "outputs": [
        {
          "output_type": "stream",
          "name": "stdout",
          "text": [
            "<bound method Counter.value of <__main__.Counter object at 0x7b310c9474f0>>\n"
          ]
        }
      ]
    },
    {
      "cell_type": "markdown",
      "source": [
        "Inheritance, Encapsulation, and Creating Multiple Objects"
      ],
      "metadata": {
        "id": "l4W19hekmeJB"
      }
    },
    {
      "cell_type": "code",
      "source": [
        "class RegularPolygon:\n",
        "  def __init__(self, side):\n",
        "    self._side = side\n",
        "class Square(RegularPolygon):\n",
        "  def area(self):\n",
        "    return self._side * self._side\n",
        "class EquilateralTriangle(RegularPolygon):\n",
        "  def area(self):\n",
        "    return self._side * self._side * 0.433\n",
        "square=Square(4)\n",
        "print(square.area())\n",
        "EquilateralTriangle = EquilateralTriangle(4)\n",
        "print(EquilateralTriangle.area())"
      ],
      "metadata": {
        "colab": {
          "base_uri": "https://localhost:8080/"
        },
        "id": "2RA1jS0hgkwB",
        "outputId": "5dd85b18-b028-4e32-a8f0-4d09caa9542a"
      },
      "execution_count": 22,
      "outputs": [
        {
          "output_type": "stream",
          "name": "stdout",
          "text": [
            "16\n",
            "6.928\n"
          ]
        }
      ]
    },
    {
      "cell_type": "markdown",
      "source": [
        "Encapsulation using Mangling (double__under score)"
      ],
      "metadata": {
        "id": "PrZSDxV3rv7h"
      }
    },
    {
      "cell_type": "code",
      "source": [
        "class RegularPolygon:\n",
        "  def __init__(self, side):\n",
        "    self.__side=side\n",
        "  def area(self):\n",
        "    print(self.__side * self.__side)\n",
        "class square(RegularPolygon):\n",
        "  pass\n",
        "square = square(4)\n",
        "square.area()"
      ],
      "metadata": {
        "colab": {
          "base_uri": "https://localhost:8080/"
        },
        "id": "M_cYtf3hr9vB",
        "outputId": "fd91c90c-192d-4371-ccd0-de2a77f9fbec"
      },
      "execution_count": 26,
      "outputs": [
        {
          "output_type": "stream",
          "name": "stdout",
          "text": [
            "16\n"
          ]
        }
      ]
    },
    {
      "cell_type": "markdown",
      "source": [
        "Application 1"
      ],
      "metadata": {
        "id": "-_-TxRvYt_dh"
      }
    },
    {
      "cell_type": "code",
      "source": [
        "class Student:\n",
        "  def __init__(self, pre, mid, fin):\n",
        "    self.pre = pre\n",
        "    self.mid = mid\n",
        "    self.fin = fin\n",
        "class std1(Student):\n",
        "  def Grade(self):\n",
        "    return (self.pre + self.mid + self.fin)/3\n",
        "class std2(Student):\n",
        "  def Grade(self):\n",
        "    return (self.pre + self.mid + self.fin)/3\n",
        "class std3(Student):\n",
        "  def Grade(self):\n",
        "    return (self.pre + self.mid + self.fin)/3\n",
        "\n",
        "JP = std1(70,75,68)\n",
        "print(\"JP Grade is: \",JP.Grade())\n",
        "Matt=std1(70,86,84)\n",
        "print(\"Matt Grade is: \",Matt.Grade())\n",
        "Roy=std1(70,69,65)\n",
        "print(\"Roy Grade is: \",Roy.Grade())\n",
        "\n",
        "\n",
        "\n",
        "\n",
        "\n",
        "\n",
        ""
      ],
      "metadata": {
        "colab": {
          "base_uri": "https://localhost:8080/"
        },
        "id": "_xpsG9ZYuCFp",
        "outputId": "4ad8071a-c977-4945-98fb-7549980e2165"
      },
      "execution_count": 48,
      "outputs": [
        {
          "output_type": "stream",
          "name": "stdout",
          "text": [
            "JP Grade is:  71.0\n",
            "Matt Grade is:  80.0\n",
            "Roy Grade is:  68.0\n"
          ]
        }
      ]
    },
    {
      "cell_type": "code",
      "source": [],
      "metadata": {
        "id": "mOMk03tk1Np8"
      },
      "execution_count": null,
      "outputs": []
    }
  ]
}
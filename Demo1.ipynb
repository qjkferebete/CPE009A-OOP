{
  "nbformat": 4,
  "nbformat_minor": 0,
  "metadata": {
    "colab": {
      "provenance": [],
      "authorship_tag": "ABX9TyO/4WDlhBhMNWTNh1i+NXIM",
      "include_colab_link": true
    },
    "kernelspec": {
      "name": "python3",
      "display_name": "Python 3"
    },
    "language_info": {
      "name": "python"
    }
  },
  "cells": [
    {
      "cell_type": "markdown",
      "metadata": {
        "id": "view-in-github",
        "colab_type": "text"
      },
      "source": [
        "<a href=\"https://colab.research.google.com/github/qjkferebete/CPE009A-OOP/blob/main/Demo1.ipynb\" target=\"_parent\"><img src=\"https://colab.research.google.com/assets/colab-badge.svg\" alt=\"Open In Colab\"/></a>"
      ]
    },
    {
      "cell_type": "markdown",
      "source": [
        "Phyton Indentation"
      ],
      "metadata": {
        "id": "aQrNO0zFIWHU"
      }
    },
    {
      "cell_type": "code",
      "source": [
        "if 5 > 2:\n",
        "  print('Five is greater than two!')"
      ],
      "metadata": {
        "colab": {
          "base_uri": "https://localhost:8080/"
        },
        "id": "H-vVaknVIhU8",
        "outputId": "9d221cb0-48f8-488f-db7f-2a48c6302181"
      },
      "execution_count": 8,
      "outputs": [
        {
          "output_type": "stream",
          "name": "stdout",
          "text": [
            "Five is greater than two!\n"
          ]
        }
      ]
    },
    {
      "cell_type": "markdown",
      "source": [
        "Phyton Comments\n"
      ],
      "metadata": {
        "id": "z4NWfF5bJ2RE"
      }
    },
    {
      "cell_type": "code",
      "source": [
        "#This is a comment\n",
        "if 5 > 2:\n",
        "  print (\"Five is greater than 2!\")"
      ],
      "metadata": {
        "colab": {
          "base_uri": "https://localhost:8080/"
        },
        "id": "522RGk7EJ7Qs",
        "outputId": "ee730715-3055-4e75-b724-2168d00c2e4d"
      },
      "execution_count": 13,
      "outputs": [
        {
          "output_type": "stream",
          "name": "stdout",
          "text": [
            "Five is greater than 2!\n"
          ]
        }
      ]
    },
    {
      "cell_type": "markdown",
      "source": [
        "Phyton Variable"
      ],
      "metadata": {
        "id": "HIeCS0AWLDBk"
      }
    },
    {
      "cell_type": "code",
      "source": [
        "x = 1 #This is a single variable with value\n",
        "a, b=0,-1\n",
        "a,b, c=0,-1,2\n",
        "print(a)\n",
        "print (b)\n",
        "print (x)\n",
        "b=\"JP\"\n",
        "print (b)"
      ],
      "metadata": {
        "colab": {
          "base_uri": "https://localhost:8080/"
        },
        "id": "D568K3kQLKpG",
        "outputId": "88a6db3f-d66d-403b-a2d0-a009ad382bbf"
      },
      "execution_count": 24,
      "outputs": [
        {
          "output_type": "stream",
          "name": "stdout",
          "text": [
            "0\n",
            "-1\n",
            "1\n",
            "JP\n"
          ]
        }
      ]
    },
    {
      "cell_type": "markdown",
      "source": [
        "Phyton Casting"
      ],
      "metadata": {
        "id": "AAUHLpVkMYqs"
      }
    },
    {
      "cell_type": "code",
      "source": [
        "b = \"JP\" #This is a string\n",
        "b=int(4)\n",
        "print(b)\n",
        "\n",
        "b=float(4)\n",
        "print(b)\n"
      ],
      "metadata": {
        "colab": {
          "base_uri": "https://localhost:8080/"
        },
        "id": "aHfkDtJVNiYF",
        "outputId": "62b24b9d-941e-481b-86f0-4b31de5c7493"
      },
      "execution_count": 29,
      "outputs": [
        {
          "output_type": "stream",
          "name": "stdout",
          "text": [
            "4\n",
            "4.0\n"
          ]
        }
      ]
    },
    {
      "cell_type": "markdown",
      "source": [
        "Type() Function"
      ],
      "metadata": {
        "id": "OvwQ7zOVPBmG"
      }
    },
    {
      "cell_type": "code",
      "source": [
        "x=5\n",
        "y=\"JP\"\n",
        "print(type(x))\n",
        "print(type(y))"
      ],
      "metadata": {
        "colab": {
          "base_uri": "https://localhost:8080/"
        },
        "id": "eA797s_QPE0W",
        "outputId": "44a897b6-513c-457e-8735-583a7d93e72b"
      },
      "execution_count": 32,
      "outputs": [
        {
          "output_type": "stream",
          "name": "stdout",
          "text": [
            "<class 'int'>\n",
            "<class 'str'>\n"
          ]
        }
      ]
    },
    {
      "cell_type": "markdown",
      "source": [
        "Double Quotes and Single Quotes"
      ],
      "metadata": {
        "id": "0I4hLQtiPYqF"
      }
    },
    {
      "cell_type": "code",
      "source": [
        "y=\"JP\"\n",
        "print(y)\n",
        "\n",
        "y=\"JP\"\n",
        "print(y)"
      ],
      "metadata": {
        "colab": {
          "base_uri": "https://localhost:8080/"
        },
        "id": "IG919pkuPhWG",
        "outputId": "bcd5cdf3-6c4d-4d6e-db98-a0f191484b0d"
      },
      "execution_count": 34,
      "outputs": [
        {
          "output_type": "stream",
          "name": "stdout",
          "text": [
            "JP\n",
            "JP\n"
          ]
        }
      ]
    },
    {
      "cell_type": "markdown",
      "source": [
        "Case Sensitive"
      ],
      "metadata": {
        "id": "sfo_-aMIP15V"
      }
    },
    {
      "cell_type": "code",
      "source": [
        "a=4\n",
        "A=\"Sally\"\n",
        "print(A)\n",
        "#A will not overwrite a"
      ],
      "metadata": {
        "colab": {
          "base_uri": "https://localhost:8080/"
        },
        "id": "Gb_TzV20P5Rm",
        "outputId": "e9119e0b-89df-47b8-c52c-dd966fb89036"
      },
      "execution_count": 37,
      "outputs": [
        {
          "output_type": "stream",
          "name": "stdout",
          "text": [
            "Sally\n"
          ]
        }
      ]
    },
    {
      "cell_type": "markdown",
      "source": [
        "Mutiple Varables"
      ],
      "metadata": {
        "id": "HFEFRrlxQSUX"
      }
    },
    {
      "cell_type": "code",
      "source": [
        "x, y ,z = \"one\", \"two\",\"three\"\n",
        "print (x, y, z)"
      ],
      "metadata": {
        "colab": {
          "base_uri": "https://localhost:8080/"
        },
        "id": "SEnKbk6pQYyn",
        "outputId": "df65f92e-a995-44eb-decb-f707bb89170c"
      },
      "execution_count": 39,
      "outputs": [
        {
          "output_type": "stream",
          "name": "stdout",
          "text": [
            "one two three\n"
          ]
        }
      ]
    },
    {
      "cell_type": "markdown",
      "source": [
        "One Value to Multiple Variables"
      ],
      "metadata": {
        "id": "kpsLXhf8QqUm"
      }
    },
    {
      "cell_type": "code",
      "source": [
        "x=y=z=\"four\"\n",
        "print (x, y, z)"
      ],
      "metadata": {
        "colab": {
          "base_uri": "https://localhost:8080/"
        },
        "id": "qXow2588Q5xm",
        "outputId": "9a493406-165f-488b-cc20-4c9ab2ad2f21"
      },
      "execution_count": 41,
      "outputs": [
        {
          "output_type": "stream",
          "name": "stdout",
          "text": [
            "four four four\n"
          ]
        }
      ]
    },
    {
      "cell_type": "markdown",
      "source": [
        "Output Variables"
      ],
      "metadata": {
        "id": "ly5FOtQHRNXl"
      }
    },
    {
      "cell_type": "code",
      "source": [
        "x=\"enjoying\"\n",
        "print(\"Phython programming is \" + x)"
      ],
      "metadata": {
        "colab": {
          "base_uri": "https://localhost:8080/"
        },
        "id": "X8aBEl-aRP8V",
        "outputId": "f6309ec4-2947-424c-f92f-8de0609e4c50"
      },
      "execution_count": 46,
      "outputs": [
        {
          "output_type": "stream",
          "name": "stdout",
          "text": [
            "Phython programming is enjoying\n"
          ]
        }
      ]
    },
    {
      "cell_type": "markdown",
      "source": [
        "Other Way (Output Variable)\n",
        "\n"
      ],
      "metadata": {
        "id": "HnuW9RbeRmXO"
      }
    },
    {
      "cell_type": "code",
      "source": [
        "x=\"phyton is \"\n",
        "y=\"enjoying \"\n",
        "z=x+y\n",
        "print(z)"
      ],
      "metadata": {
        "colab": {
          "base_uri": "https://localhost:8080/"
        },
        "id": "WSElAMj1R9Om",
        "outputId": "a42443e0-b3a4-4b09-9f10-d0b3794fb3cd"
      },
      "execution_count": 47,
      "outputs": [
        {
          "output_type": "stream",
          "name": "stdout",
          "text": [
            "phyton is enjoying \n"
          ]
        }
      ]
    },
    {
      "cell_type": "markdown",
      "source": [
        "Arithmetic Operation"
      ],
      "metadata": {
        "id": "aC0IfXbbVIlH"
      }
    },
    {
      "cell_type": "code",
      "source": [
        "x=5\n",
        "y=3\n",
        "print(x+y)\n",
        "\n",
        "x=5\n",
        "y=3\n",
        "sum=x+y\n",
        "sum"
      ],
      "metadata": {
        "colab": {
          "base_uri": "https://localhost:8080/"
        },
        "id": "zlw2WOcDVOKJ",
        "outputId": "fa716544-49b7-437f-9a34-3f1bbcf882aa"
      },
      "execution_count": 50,
      "outputs": [
        {
          "output_type": "stream",
          "name": "stdout",
          "text": [
            "8\n"
          ]
        },
        {
          "output_type": "execute_result",
          "data": {
            "text/plain": [
              "8"
            ]
          },
          "metadata": {},
          "execution_count": 50
        }
      ]
    },
    {
      "cell_type": "markdown",
      "source": [
        "Assignment Operators"
      ],
      "metadata": {
        "id": "jxZBiSxcVyXf"
      }
    },
    {
      "cell_type": "code",
      "source": [
        "a,b,c = 0,-1,6\n",
        "c%=3\n",
        "c"
      ],
      "metadata": {
        "colab": {
          "base_uri": "https://localhost:8080/"
        },
        "id": "nqSke5-jV2Bf",
        "outputId": "9d891795-cedb-467a-9e01-2226e3ae3620"
      },
      "execution_count": 51,
      "outputs": [
        {
          "output_type": "execute_result",
          "data": {
            "text/plain": [
              "0"
            ]
          },
          "metadata": {},
          "execution_count": 51
        }
      ]
    },
    {
      "cell_type": "markdown",
      "source": [
        "Comparison Operators"
      ],
      "metadata": {
        "id": "WceO2UaXWZtv"
      }
    },
    {
      "cell_type": "code",
      "source": [
        "x=1\n",
        "y=1\n",
        "\n",
        "x==y"
      ],
      "metadata": {
        "colab": {
          "base_uri": "https://localhost:8080/"
        },
        "id": "mLKSmbBrWcdP",
        "outputId": "45c3e03f-39e3-4a64-bf02-4b14ca1daef6"
      },
      "execution_count": 53,
      "outputs": [
        {
          "output_type": "execute_result",
          "data": {
            "text/plain": [
              "True"
            ]
          },
          "metadata": {},
          "execution_count": 53
        }
      ]
    },
    {
      "cell_type": "markdown",
      "source": [
        "Logical Operators"
      ],
      "metadata": {
        "id": "Or68HsmGWzlv"
      }
    },
    {
      "cell_type": "code",
      "source": [
        "x=1\n",
        "x < 5 and  x < 10"
      ],
      "metadata": {
        "colab": {
          "base_uri": "https://localhost:8080/"
        },
        "id": "hDWat1ekW3sA",
        "outputId": "523995c0-20fb-4d94-8d07-f903588eefdb"
      },
      "execution_count": 54,
      "outputs": [
        {
          "output_type": "execute_result",
          "data": {
            "text/plain": [
              "True"
            ]
          },
          "metadata": {},
          "execution_count": 54
        }
      ]
    },
    {
      "cell_type": "markdown",
      "source": [
        "Identity Opertors"
      ],
      "metadata": {
        "id": "ZCxmrxL2XdZ4"
      }
    },
    {
      "cell_type": "code",
      "source": [
        "a,b,c=0,-1,5\n",
        "a is c\n"
      ],
      "metadata": {
        "colab": {
          "base_uri": "https://localhost:8080/"
        },
        "id": "kTE0RJnpXgJg",
        "outputId": "f8beacf8-c6db-425e-a912-3130b6c40ce9"
      },
      "execution_count": 59,
      "outputs": [
        {
          "output_type": "execute_result",
          "data": {
            "text/plain": [
              "False"
            ]
          },
          "metadata": {},
          "execution_count": 59
        }
      ]
    }
  ]
}
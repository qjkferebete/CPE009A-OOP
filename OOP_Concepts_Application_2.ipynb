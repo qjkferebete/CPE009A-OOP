{
  "nbformat": 4,
  "nbformat_minor": 0,
  "metadata": {
    "colab": {
      "provenance": [],
      "authorship_tag": "ABX9TyMDAkPkYcPOT00apzMr7d+V",
      "include_colab_link": true
    },
    "kernelspec": {
      "name": "python3",
      "display_name": "Python 3"
    },
    "language_info": {
      "name": "python"
    }
  },
  "cells": [
    {
      "cell_type": "markdown",
      "metadata": {
        "id": "view-in-github",
        "colab_type": "text"
      },
      "source": [
        "<a href=\"https://colab.research.google.com/github/qjkferebete/CPE009A-OOP/blob/main/OOP_Concepts_Application_2.ipynb\" target=\"_parent\"><img src=\"https://colab.research.google.com/assets/colab-badge.svg\" alt=\"Open In Colab\"/></a>"
      ]
    },
    {
      "cell_type": "markdown",
      "source": [
        "Create a class name Shapes (5 shapes)\n",
        "attributes sides\n",
        "create a function/method that displays the no. of sides of the shape\n",
        "apply inheritance and encapsulation"
      ],
      "metadata": {
        "id": "dxffb9rKrx13"
      }
    },
    {
      "cell_type": "code",
      "source": [
        "class Shapes:\n",
        "    def __init__(self, sides):\n",
        "        self.__sides = sides\n",
        "\n",
        "class Triangle(Shapes):\n",
        "    pass\n",
        "\n",
        "class Octagon(Shapes):\n",
        "    pass\n",
        "\n",
        "class Decagon(Shapes):\n",
        "    pass\n",
        "\n",
        "class Square(Shapes):\n",
        "    pass\n",
        "\n",
        "class Pentagon(Shapes):\n",
        "    pass\n",
        "\n",
        "triangle = Triangle(3)\n",
        "octagon = Octagon(8)\n",
        "decagon = Decagon(10)\n",
        "square = Square(4)\n",
        "pentagon = Pentagon(5)\n",
        "\n",
        "print(\"Triangle has\", triangle._Shapes__sides, \"sides.\")\n",
        "print(\"Octagon has\", octagon._Shapes__sides, \"sides.\")\n",
        "print(\"Decagon has\", decagon._Shapes__sides, \"sides.\")\n",
        "print(\"Square has\", square._Shapes__sides, \"sides.\")\n",
        "print(\"Pentagon has\", pentagon._Shapes__sides, \"sides.\")"
      ],
      "metadata": {
        "colab": {
          "base_uri": "https://localhost:8080/"
        },
        "id": "ByYrQLPI0dHf",
        "outputId": "3f0053d2-eadf-4027-c083-74f8c809fa55"
      },
      "execution_count": 28,
      "outputs": [
        {
          "output_type": "stream",
          "name": "stdout",
          "text": [
            "Triangle has 3 sides.\n",
            "Octagon has 8 sides.\n",
            "Decagon has 10 sides.\n",
            "Square has 4 sides.\n",
            "Pentagon has 5 sides.\n"
          ]
        }
      ]
    }
  ]
}
{
  "nbformat": 4,
  "nbformat_minor": 0,
  "metadata": {
    "colab": {
      "provenance": [],
      "authorship_tag": "ABX9TyM2kavQnI5N5lV9AhQqfK1J",
      "include_colab_link": true
    },
    "kernelspec": {
      "name": "python3",
      "display_name": "Python 3"
    },
    "language_info": {
      "name": "python"
    }
  },
  "cells": [
    {
      "cell_type": "markdown",
      "metadata": {
        "id": "view-in-github",
        "colab_type": "text"
      },
      "source": [
        "<a href=\"https://colab.research.google.com/github/qjkferebete/CPE009A-OOP/blob/main/Concepts_of_OOP.ipynb\" target=\"_parent\"><img src=\"https://colab.research.google.com/assets/colab-badge.svg\" alt=\"Open In Colab\"/></a>"
      ]
    },
    {
      "cell_type": "code",
      "source": [
        "class Car:\n",
        "  pass\n",
        "\n",
        "  obj1 = Car( )\n",
        "  print(obj1)\n"
      ],
      "metadata": {
        "colab": {
          "base_uri": "https://localhost:8080/"
        },
        "id": "yQJA7wxpeL0h",
        "outputId": "42615b80-5b92-4515-c400-504d28cefb90"
      },
      "execution_count": 12,
      "outputs": [
        {
          "output_type": "stream",
          "name": "stdout",
          "text": [
            "<__main__.Car object at 0x7c57ce48ec20>\n"
          ]
        }
      ]
    },
    {
      "cell_type": "code",
      "source": [
        "class Car:   #class constructor\n",
        "  def __init__(self, name, color, mileage):\n",
        "    self.name = name  #car attributes\n",
        "    self.color = color\n",
        "    self.mileage = mileage\n",
        "\n",
        "obj1 = Car(\"BMW\", \"RED\", 1000)  #object name\n",
        "print(obj1.name)\n",
        "print(obj1.color)\n",
        "print(obj1.mileage)\n"
      ],
      "metadata": {
        "colab": {
          "base_uri": "https://localhost:8080/"
        },
        "id": "Tfe4M_7ljFLV",
        "outputId": "7eb9b729-7df0-4b13-a754-81729697ffd4"
      },
      "execution_count": 27,
      "outputs": [
        {
          "output_type": "stream",
          "name": "stdout",
          "text": [
            "BMW\n",
            "RED\n",
            "1000\n"
          ]
        }
      ]
    },
    {
      "cell_type": "markdown",
      "source": [
        "Application 1 - Write a Phyton program that prints your student information with the following attributes: Name, Age, Course, and Section. Use class name Student(), object name as student"
      ],
      "metadata": {
        "id": "I1RfPbA7m7v5"
      }
    },
    {
      "cell_type": "code",
      "source": [
        "class Student:\n",
        "  def __init__(self, name, age, course, section):\n",
        "    self.name = name\n",
        "    self.age = age\n",
        "    self.course = course\n",
        "    self.section = section\n",
        "\n",
        "obj1 = Student(\"Jan Kenneth F. Erebete\", 19, \"CPE009A\", \"CPE12S6\" )\n",
        "print(obj1.name)\n",
        "print(obj1.age)\n",
        "print(obj1.course)\n",
        "print(obj1.section)\n"
      ],
      "metadata": {
        "colab": {
          "base_uri": "https://localhost:8080/"
        },
        "id": "xiCXpp5znXdX",
        "outputId": "3fc396a7-1d91-4440-9c6c-d198876fba92"
      },
      "execution_count": 33,
      "outputs": [
        {
          "output_type": "stream",
          "name": "stdout",
          "text": [
            "Jan Kenneth F. Erebete\n",
            "19\n",
            "CPE009A\n",
            "CPE12S6\n"
          ]
        }
      ]
    }
  ]
}
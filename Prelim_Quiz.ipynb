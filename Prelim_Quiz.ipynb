{
  "nbformat": 4,
  "nbformat_minor": 0,
  "metadata": {
    "colab": {
      "provenance": [],
      "authorship_tag": "ABX9TyMqDgKjJfuGXZxje6l0rpao",
      "include_colab_link": true
    },
    "kernelspec": {
      "name": "python3",
      "display_name": "Python 3"
    },
    "language_info": {
      "name": "python"
    }
  },
  "cells": [
    {
      "cell_type": "markdown",
      "metadata": {
        "id": "view-in-github",
        "colab_type": "text"
      },
      "source": [
        "<a href=\"https://colab.research.google.com/github/qjkferebete/CPE009A-OOP/blob/main/Prelim_Quiz.ipynb\" target=\"_parent\"><img src=\"https://colab.research.google.com/assets/colab-badge.svg\" alt=\"Open In Colab\"/></a>"
      ]
    },
    {
      "cell_type": "markdown",
      "source": [
        "https://lucid.app/lucidchart/8e76013a-da27-44c9-a78d-5b870f0a7995/edit?beaconFlowId=89D4B371E5AA63D2&invitationId=inv_af70685f-6126-40ce-a4c8-a8c6e729d4f1&page=0_0#"
      ],
      "metadata": {
        "id": "EIkVgYKQVAmp"
      }
    },
    {
      "cell_type": "code",
      "source": [
        "n=20\n",
        "totalnumbers = n\n",
        "sum = 0\n",
        "average = 0\n",
        "\n",
        "while n>=0:\n",
        "  sum += n\n",
        "  average = 0\n",
        "  n -= 1\n",
        "\n",
        "average=sum/totalnumbers\n",
        "print (sum)\n",
        "print (average)"
      ],
      "metadata": {
        "colab": {
          "base_uri": "https://localhost:8080/"
        },
        "id": "PljyTF-fVm6i",
        "outputId": "feb28873-034f-40c6-bc2a-7d9a98640863"
      },
      "execution_count": 9,
      "outputs": [
        {
          "output_type": "stream",
          "name": "stdout",
          "text": [
            "210\n",
            "10.5\n"
          ]
        }
      ]
    }
  ]
}
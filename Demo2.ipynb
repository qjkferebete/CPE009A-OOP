{
  "nbformat": 4,
  "nbformat_minor": 0,
  "metadata": {
    "colab": {
      "provenance": [],
      "toc_visible": true,
      "authorship_tag": "ABX9TyMz4fZEPuQMgjFjAFMSXVz2",
      "include_colab_link": true
    },
    "kernelspec": {
      "name": "python3",
      "display_name": "Python 3"
    },
    "language_info": {
      "name": "python"
    }
  },
  "cells": [
    {
      "cell_type": "markdown",
      "metadata": {
        "id": "view-in-github",
        "colab_type": "text"
      },
      "source": [
        "<a href=\"https://colab.research.google.com/github/qjkferebete/CPE009A-OOP/blob/main/Demo2.ipynb\" target=\"_parent\"><img src=\"https://colab.research.google.com/assets/colab-badge.svg\" alt=\"Open In Colab\"/></a>"
      ]
    },
    {
      "cell_type": "markdown",
      "source": [
        "Algorithm and Flow chart"
      ],
      "metadata": {
        "id": "NK1Cw2G2PVr3"
      }
    },
    {
      "cell_type": "code",
      "source": [
        "num1 = 50\n",
        "num2 = 50\n",
        "num3 = 50\n",
        "sum= num1+ num2 +num3\n",
        "ave= sum/3\n",
        "\n",
        "print(sum)\n",
        "print (ave)"
      ],
      "metadata": {
        "colab": {
          "base_uri": "https://localhost:8080/"
        },
        "id": "P4MtOJa0PWKH",
        "outputId": "cb6cb3b5-e2af-4beb-ea1a-c377d2e93a70"
      },
      "execution_count": 8,
      "outputs": [
        {
          "output_type": "stream",
          "name": "stdout",
          "text": [
            "150\n",
            "50.0\n"
          ]
        }
      ]
    },
    {
      "cell_type": "code",
      "source": [
        "print(\"Input three grades\")\n",
        "num1 = input()\n",
        "num2 = input()\n",
        "num3 = input ()\n",
        "average = (int(num1)+ int(num2) + int(num3)) /3\n",
        "print(average)"
      ],
      "metadata": {
        "colab": {
          "base_uri": "https://localhost:8080/"
        },
        "id": "2k-UZzb5Pgu_",
        "outputId": "8624c8ba-8d6a-450e-b072-219d1b6c1820"
      },
      "execution_count": 21,
      "outputs": [
        {
          "output_type": "stream",
          "name": "stdout",
          "text": [
            "Input three grades\n",
            "50\n",
            "50\n",
            "50\n",
            "50.0\n"
          ]
        }
      ]
    },
    {
      "cell_type": "code",
      "source": [],
      "metadata": {
        "id": "fQ7eSAcOSYOB"
      },
      "execution_count": null,
      "outputs": []
    }
  ]
}
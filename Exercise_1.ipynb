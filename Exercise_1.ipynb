{
  "nbformat": 4,
  "nbformat_minor": 0,
  "metadata": {
    "colab": {
      "provenance": [],
      "authorship_tag": "ABX9TyMGRS4gIHJlrI41VDSdIq3g",
      "include_colab_link": true
    },
    "kernelspec": {
      "name": "python3",
      "display_name": "Python 3"
    },
    "language_info": {
      "name": "python"
    }
  },
  "cells": [
    {
      "cell_type": "markdown",
      "metadata": {
        "id": "view-in-github",
        "colab_type": "text"
      },
      "source": [
        "<a href=\"https://colab.research.google.com/github/qjkferebete/CPE009A-OOP/blob/main/Exercise_1.ipynb\" target=\"_parent\"><img src=\"https://colab.research.google.com/assets/colab-badge.svg\" alt=\"Open In Colab\"/></a>"
      ]
    },
    {
      "cell_type": "markdown",
      "source": [
        "Algorithm to get the perimeter and area of a rectangle\n",
        "1.Start\n",
        "2.Input the width and length of a rectangle\n",
        "3.calculate the perimeter = perimeter = 2(length + width)\n",
        "4.calculate the area = area = lenghth width\n",
        "5.output the perimeter and area\n",
        "6.Stop\n",
        "\n"
      ],
      "metadata": {
        "id": "FuSuqWhSUOOO"
      }
    },
    {
      "cell_type": "markdown",
      "source": [],
      "metadata": {
        "id": "cI-GgVl3Zu1X"
      }
    },
    {
      "cell_type": "code",
      "source": [
        "length=float(input(\"Enter the length of the rectangle: \"))\n",
        "width=float(input(\"Enter the width of the rectangle: \"))\n",
        "\n",
        "perimeter = 2*(length + width)\n",
        "area = length*width\n",
        "\n",
        "print (\"The area of the rectangle is: \",area)\n",
        "print (\"The periemeter of the rectangle is: \", perimeter)\n",
        "\n"
      ],
      "metadata": {
        "colab": {
          "base_uri": "https://localhost:8080/"
        },
        "id": "UqDnWLYGV943",
        "outputId": "06a8836d-978f-400c-edec-f518f4bf291e"
      },
      "execution_count": 8,
      "outputs": [
        {
          "output_type": "stream",
          "name": "stdout",
          "text": [
            "Enter the length of the rectangle: 6\n",
            "Enter the width of the rectangle: 7\n",
            "The area of the rectangle is:  42.0\n",
            "The periemeter of the rectangle is:  26.0\n"
          ]
        }
      ]
    }
  ]
}